{
 "cells": [
  {
   "cell_type": "code",
   "id": "initial_id",
   "metadata": {
    "collapsed": true,
    "ExecuteTime": {
     "end_time": "2024-10-25T13:25:13.941150Z",
     "start_time": "2024-10-25T13:25:13.937680Z"
    }
   },
   "source": [
    "import os\n",
    "import json\n",
    "import pandas as pd\n",
    "import cv2\n",
    "import matplotlib.pyplot as plt\n",
    "import numpy as np"
   ],
   "execution_count": 8,
   "outputs": []
  },
  {
   "metadata": {},
   "cell_type": "markdown",
   "source": "# Load data",
   "id": "663e370036cbaefa"
  },
  {
   "metadata": {
    "ExecuteTime": {
     "end_time": "2024-10-25T13:25:14.425001Z",
     "start_time": "2024-10-25T13:25:14.420660Z"
    }
   },
   "cell_type": "code",
   "source": [
    "import random\n",
    "\n",
    "categories = {\n",
    "    1: 'short sleeve top',\n",
    "    2: 'long sleeve top',\n",
    "    3: 'short sleeve outwear',\n",
    "    4: 'long sleeve outwear',\n",
    "    5: 'vest',\n",
    "    6: 'sling',\n",
    "    7: 'shorts',\n",
    "    8: 'trousers',\n",
    "    9: 'skirt',\n",
    "    10: 'short sleeve dress',\n",
    "    11: 'long sleeve dress',\n",
    "    12: 'vest dress',\n",
    "    13: 'sling dress'\n",
    "}\n",
    "\n",
    "color_dict = {}\n",
    "for el in categories.values():\n",
    "    color_dict[el] = (random.randint(0, 255), random.randint(0, 255), random.randint(0, 255))"
   ],
   "id": "ea4f0bfcea566c94",
   "execution_count": 9,
   "outputs": []
  },
  {
   "metadata": {
    "ExecuteTime": {
     "end_time": "2024-10-25T13:25:14.671729Z",
     "start_time": "2024-10-25T13:25:14.667143Z"
    }
   },
   "cell_type": "code",
   "source": [
    "def load_json(dataset, img_number):\n",
    "    path = f'../DeepFashion2/{dataset}/annos/{img_number}.json'\n",
    "    with open(path, 'r') as f:\n",
    "        data = json.load(f)\n",
    "\n",
    "    return data"
   ],
   "id": "71bf01a71a6e0c20",
   "execution_count": 10,
   "outputs": []
  },
  {
   "metadata": {
    "ExecuteTime": {
     "end_time": "2024-10-25T13:25:14.941433Z",
     "start_time": "2024-10-25T13:25:14.936735Z"
    }
   },
   "cell_type": "code",
   "source": [
    "def load_image(dataset, img_number):\n",
    "    path = f'../DeepFashion2/{dataset}/image/{img_number}'\n",
    "    img = cv2.imread(path, cv2.IMREAD_COLOR)\n",
    "    img = cv2.cvtColor(img, cv2.COLOR_BGR2RGB)\n",
    "\n",
    "    return img"
   ],
   "id": "76ad0031a3e64376",
   "execution_count": 11,
   "outputs": []
  },
  {
   "metadata": {
    "ExecuteTime": {
     "end_time": "2024-10-25T13:25:15.163430Z",
     "start_time": "2024-10-25T13:25:15.158625Z"
    }
   },
   "cell_type": "code",
   "source": [
    "def draw_bbox(img, data):\n",
    "    img = img.copy()\n",
    "    for item in data.keys():\n",
    "        if item == 'source' or item == 'pair_id':\n",
    "            continue\n",
    "        category_name = data[item][\"category_name\"]\n",
    "\n",
    "        x1, y1, w, h = data[item][\"bounding_box\"]\n",
    "        img = cv2.rectangle(img, (x1, y1), (x1 + w, y1 + h), color_dict[category_name], 8)\n",
    "        img = cv2.putText(img, category_name, (x1, y1 - 10), cv2.FONT_HERSHEY_SIMPLEX, 0.9, color_dict[category_name],\n",
    "                          2)\n",
    "\n",
    "    return img"
   ],
   "id": "68789914f9353032",
   "execution_count": 12,
   "outputs": []
  },
  {
   "metadata": {
    "ExecuteTime": {
     "end_time": "2024-10-25T13:32:58.062585Z",
     "start_time": "2024-10-25T13:32:58.058894Z"
    }
   },
   "cell_type": "code",
   "source": [
    "import matplotlib.patches as patches\n",
    "\n",
    "def draw_segmentation(img, data):\n",
    "    img = img.copy()\n",
    "    for item in data.keys():\n",
    "        if item == 'source' or item == 'pair_id':\n",
    "            continue\n",
    "        category_name = data[item][\"category_name\"]\n",
    "        \n",
    "        segmentation = data[item][\"segmentation\"]\n",
    "        \n",
    "        for seg in segmentation:\n",
    "            seg = np.array(seg).reshape(-1, 2).astype(np.int32)\n",
    "            img = cv2.polylines(img, [seg], isClosed=True, color=color_dict[category_name], thickness=8)\n",
    "            \n",
    "    return img"
   ],
   "id": "d9089900869a2128",
   "execution_count": 25,
   "outputs": []
  },
  {
   "metadata": {},
   "cell_type": "markdown",
   "source": [
    "# Data analysis\n",
    "\n",
    "DeepFashion2 dataset contains three folders:\n",
    "\n",
    "- train (191161 images)\n",
    "- validation\n",
    "- test\n",
    "\n",
    "For EDA I will use only train sample."
   ],
   "id": "bf242f278ec9e3a9"
  },
  {
   "metadata": {
    "ExecuteTime": {
     "end_time": "2024-10-25T13:33:00.186756Z",
     "start_time": "2024-10-25T13:32:59.255354Z"
    }
   },
   "cell_type": "code",
   "source": [
    "# show 10 images and their annotations\n",
    "dataset = 'train'\n",
    "img_numbers = os.listdir(f'../DeepFashion2/{dataset}/image')[:10]\n",
    "\n",
    "fig, axs = plt.subplots(2, 5, figsize=(20, 10))\n",
    "\n",
    "for i, img_number in enumerate(img_numbers):\n",
    "    data = load_json(dataset, img_number[:-4])\n",
    "    img = load_image(dataset, img_number)\n",
    "    img = draw_bbox(img, data)\n",
    "    img = draw_segmentation(img, data)\n",
    "    \n",
    "    axs[i // 5, i % 5].imshow(img)\n",
    "    axs[i // 5, i % 5].axis('off')\n",
    "    axs[i // 5, i % 5].set_title(f'Image {img_number}')\n",
    "\n",
    "plt.show()"
   ],
   "id": "90cea5f345946870",
   "execution_count": 26,
   "outputs": []
  },
  {
   "metadata": {
    "ExecuteTime": {
     "end_time": "2024-10-23T13:49:16.165982Z",
     "start_time": "2024-10-23T13:33:04.177674Z"
    }
   },
   "cell_type": "code",
   "source": [
    "# create df that contains image height, width, number of objects and their categories\n",
    "\n",
    "data_df = []\n",
    "cat_count = {}\n",
    "for img in os.listdir(f'../DeepFashion2/{dataset}/image'):\n",
    "    data = load_json(dataset, img[:-4])\n",
    "    image = load_image(dataset, img)\n",
    "\n",
    "    height, width, channels = image.shape\n",
    "    num_objects = 0\n",
    "    for item in data.keys():\n",
    "        if item == 'source' or item == 'pair_id':\n",
    "            continue\n",
    "        num_objects += 1\n",
    "\n",
    "        category_name = data[item][\"category_name\"]\n",
    "        if category_name in cat_count:\n",
    "            cat_count[category_name] += 1\n",
    "        else:\n",
    "            cat_count[category_name] = 1\n",
    "\n",
    "    data_df.append({\n",
    "        'img': img,\n",
    "        'height': height,\n",
    "        'width': width,\n",
    "        'num_objects': num_objects\n",
    "    })\n",
    "\n",
    "df = pd.DataFrame(data_df)\n",
    "df\n"
   ],
   "id": "d8637611352e3358",
   "execution_count": 68,
   "outputs": []
  },
  {
   "metadata": {
    "jupyter": {
     "is_executing": true
    }
   },
   "cell_type": "code",
   "source": [
    "# plot number of objects in image\n",
    "\n",
    "plt.figure(figsize=(10, 5))\n",
    "plt.hist(df['num_objects'], bins=20)\n",
    "plt.xlabel('Number of objects')\n",
    "plt.ylabel('Number of images')\n",
    "plt.title('Number of objects in image distribution')\n",
    "plt.show()"
   ],
   "id": "1f9c23446449f39b",
   "execution_count": null,
   "outputs": []
  },
  {
   "metadata": {},
   "cell_type": "code",
   "execution_count": null,
   "source": [
    "# plot categories distribution\n",
    "plt.figure(figsize=(10, 5))\n",
    "plt.bar(cat_count.keys(), cat_count.values())\n"
   ],
   "id": "cfdfe8998b5b3814",
   "outputs": []
  }
 ],
 "metadata": {
  "kernelspec": {
   "display_name": "Python 3",
   "language": "python",
   "name": "python3"
  },
  "language_info": {
   "codemirror_mode": {
    "name": "ipython",
    "version": 2
   },
   "file_extension": ".py",
   "mimetype": "text/x-python",
   "name": "python",
   "nbconvert_exporter": "python",
   "pygments_lexer": "ipython2",
   "version": "2.7.6"
  }
 },
 "nbformat": 4,
 "nbformat_minor": 5
}
